{
 "metadata": {
  "name": "",
  "signature": "sha256:7e9b6afebb51f2610ff049a70acb9da8d376e318bbf85f2e3e2d519757ab746f"
 },
 "nbformat": 3,
 "nbformat_minor": 0,
 "worksheets": [
  {
   "cells": [
    {
     "cell_type": "code",
     "collapsed": false,
     "input": [
      "import random\n",
      "import time\n",
      "import thread\n",
      "\n",
      "# Messager base class which provides basic messaging facilities        \n",
      "class Messager:\n",
      "#    def __init__(self):\n",
      "    def send(self, message):\n",
      "        print \"Messager sends: \"\n",
      "        print message\n",
      "  \n",
      "\n",
      "# define a simple class to represent a single sequence\n",
      "class Sequence:\n",
      "    def __init__(self, messager = Messager(), channel = 0):\n",
      "        # initialise the memort\n",
      "        self.memory = [[random.random()] for i in range(32)]\n",
      "        self.play_length = 8\n",
      "        self.step = 0\n",
      "        # how many ticks before we step?\n",
      "        self.tick_per_Step = 1\n",
      "        self.disabled = False\n",
      "        self.tick_count = 0\n",
      "        self.messager = messager\n",
      "        self.channel = channel\n",
      "    # call this when the clock ticks\n",
      "    def tick(self):\n",
      "        #print \"tick\"\n",
      "        if self.tick_count == 0:\n",
      "            #print \"step\"\n",
      "            self.play_step(self.step)\n",
      "            self.step = (self.step + 1) % self.play_length \n",
      "        self.tick_count = (self.tick_count + 1) % self.tick_per_Step\n",
      "    # read the memory at self.step and turn it into a message\n",
      "    def play_step(self, step):\n",
      "        self.messager.send({\"channel\":self.channel, \"step\":self.step, \"val\":self.memory[step]})\n",
      "    def get_memory(self):\n",
      "        return self.memory\n",
      "      \n",
      "class Clock:\n",
      "    def __init__(self):\n",
      "        self.bpm(130)\n",
      "        self.listeners = []\n",
      "        \n",
      "    def start(self):\n",
      "        print \"Clock::start\"\n",
      "        thread.start_new_thread(self.tick, ())\n",
      "        \n",
      "    def stop(self):\n",
      "        print \"Clock::stop\"\n",
      "\n",
      "    def tick(self):\n",
      "        print \"Clock::tick\"\n",
      "        count = 0\n",
      "        while count < 5:\n",
      "            for listener in self.listeners:\n",
      "                print \"ticking a listener\"\n",
      "                listener.tick()\n",
      "            time.sleep(self.tick_length)\n",
      "            count += 1\n",
      "                   \n",
      "    def bpm(self, bpm):\n",
      "        # 4 ticks a beat\n",
      "        self.tick_length = 60.0/bpm / 4\n",
      "        \n",
      "    # add something that wants to know when the clock ticks    \n",
      "    def addListener(self, listener):\n",
      "        self.listeners.append(listener)\n",
      "        \n",
      "        \n",
      "\n",
      " \n",
      "    "
     ],
     "language": "python",
     "metadata": {},
     "outputs": [],
     "prompt_number": 82
    },
    {
     "cell_type": "code",
     "collapsed": false,
     "input": [
      "[[0] for i in range(10)]"
     ],
     "language": "python",
     "metadata": {},
     "outputs": [
      {
       "metadata": {},
       "output_type": "pyout",
       "prompt_number": 83,
       "text": [
        "[[0], [0], [0], [0], [0], [0], [0], [0], [0], [0]]"
       ]
      }
     ],
     "prompt_number": 83
    },
    {
     "cell_type": "code",
     "collapsed": false,
     "input": [
      "seq = Sequence()\n",
      "clock = Clock()\n",
      "clock.addListener(seq)\n",
      "clock.start()"
     ],
     "language": "python",
     "metadata": {},
     "outputs": [
      {
       "output_type": "stream",
       "stream": "stdout",
       "text": [
        "Clock::start\n",
        "Clock::tick\n",
        "ticking a listener\n",
        "Messager sends: \n",
        "{'step': 0, 'val': [0.8129554088383955], 'channel': 0}\n"
       ]
      }
     ],
     "prompt_number": 84
    },
    {
     "cell_type": "code",
     "collapsed": false,
     "input": [],
     "language": "python",
     "metadata": {},
     "outputs": [],
     "prompt_number": 53
    },
    {
     "cell_type": "code",
     "collapsed": false,
     "input": [],
     "language": "python",
     "metadata": {},
     "outputs": []
    }
   ],
   "metadata": {}
  }
 ]
}